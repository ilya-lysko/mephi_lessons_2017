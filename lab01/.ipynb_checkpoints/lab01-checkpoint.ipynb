{
 "cells": [
  {
   "cell_type": "markdown",
   "metadata": {
    "collapsed": true
   },
   "source": [
    "# Лабораторная работа №1. Симметричные методы"
   ]
  },
  {
   "cell_type": "markdown",
   "metadata": {
    "collapsed": true
   },
   "source": [
    "## Метод деления отрезка пополам\n",
    "<b>Описание метода</b><br>\n",
    "Параметры на входе: $$\\delta, \\quad \\epsilon$$ - достаточно малые положительные константы.\n",
    "1. Повторять:\n",
    "2.  $$x_1 = \\frac{a + b - \\delta}{2}, \\quad x_2 = \\frac{a + b + \\delta}{2}$$\n",
    "3. Если $$f(x_1) > f(x_2), то a=x_1$$\n",
    "4. Если $$f(x_1) < f(x_2), то b=x_2$$\n",
    "5. пока $$\\frac{b-a}{2} \\geq \\epsilon$$\n",
    "6.  $$\\tilde{x}^{\\ast}=\\frac{a+b}{2}$$"
   ]
  },
  {
   "cell_type": "code",
   "execution_count": 7,
   "metadata": {
    "collapsed": true
   },
   "outputs": [],
   "source": [
    "def halfdivide(f, a, b, delta=0.01, eps=0.01):\n",
    "    while (b - a) / 2 >= eps:\n",
    "        x1 = (a + b - delta) / 2\n",
    "        x2 = (a + b + delta) / 2\n",
    "        if f(x1) > f(x2):\n",
    "            a = x1\n",
    "        else:\n",
    "            b = x2\n",
    "    return (a + b) / 2"
   ]
  },
  {
   "cell_type": "markdown",
   "metadata": {},
   "source": [
    "## Метод золотого сечения\n",
    "<b>Определение:</b><br>\n",
    "Говорят, что точка x осуществляет золотое сечение отрезка $$[a, \\quad b]$$, если\n",
    "$$\\frac{b-a}{b-x}=\\frac{b-x}{x-a}=\\phi=\\frac{1+\\sqrt{5} }{2}$$\n",
    "\n",
    "В качестве $$x_1$$ и $$x_2$$ выберем точку золотого сечения отрезка и симметричную ей. Если $$a<x_1<x_2<b$$, то при указанном выборе точек получаем, что x_1 - точка золотого сечения отрезка [a, \\quad x_2], а x_2 - точка золотого сечения отрезка $$[x_1, \\quad b]$$. Таким образом, на каждом шаге, кроме первого, необходимо вычислять значение только в одной точке, вторая берется из предыдущего шага.\n",
    "Описание метода\n",
    "Параметр на входе:  $$\\epsilon$$ - достаточно малая положительная константа, погрешность метода.\n",
    "1. $$x_1 = b-\\frac{b-a}{\\phi}, \\quad x_2 = a+\\frac{b-a}{\\phi}$$\n",
    "2. Повторять:\n",
    "3. Если $$f(x_1) > f(x_2)$$, то $$a=x_1, \\quad x_1=x_2, \\quad x_2=b-(x_1-a)$$\n",
    "4. Если $$f(x_1) < f(x_2)$$, то $$b=x_2, \\quad x_2=x_1, \\quad x_1=a+(b-x_2)$$\n",
    "5. пока $$\\frac{b-a}{2} \\geq \\epsilon$$\n",
    "6.  $$\\tilde{x}^{\\ast}=\\frac{a+b}{2}$$"
   ]
  },
  {
   "cell_type": "code",
   "execution_count": 16,
   "metadata": {
    "collapsed": false
   },
   "outputs": [],
   "source": [
    "def goldenSection(f, a, b, eps=0.01):\n",
    "    PHI = (1 + 5 ** 0.5)/2\n",
    "    while ((b - a) / 2 >= eps):\n",
    "        x1 = b - (b - a) / PHI\n",
    "        x2 = a + (b - a) / PHI\n",
    "        if f(x1) > f(x2):\n",
    "            a = x1\n",
    "            x1 = x2\n",
    "            x2 = b - (x1 - a)\n",
    "        else:\n",
    "            b = x2\n",
    "            x2 = x1\n",
    "            x1 = a + (b - x2)\n",
    "    return (a + b) / 2"
   ]
  }
 ],
 "metadata": {
  "kernelspec": {
   "display_name": "Python 3",
   "language": "python",
   "name": "python3"
  },
  "language_info": {
   "codemirror_mode": {
    "name": "ipython",
    "version": 3
   },
   "file_extension": ".py",
   "mimetype": "text/x-python",
   "name": "python",
   "nbconvert_exporter": "python",
   "pygments_lexer": "ipython3",
   "version": "3.6.0"
  }
 },
 "nbformat": 4,
 "nbformat_minor": 2
}
