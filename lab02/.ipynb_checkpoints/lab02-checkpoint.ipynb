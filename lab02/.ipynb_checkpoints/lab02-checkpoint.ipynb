{
 "cells": [
  {
   "cell_type": "code",
   "execution_count": 78,
   "metadata": {
    "collapsed": false
   },
   "outputs": [],
   "source": [
    "import numpy as np\n",
    "import scipy.optimize\n",
    "import matplotlib.pyplot as plt\n",
    "import concurrent.futures\n",
    "import numba\n",
    "import json\n",
    "import unittest\n",
    "\n",
    "%matplotlib inline"
   ]
  },
  {
   "cell_type": "markdown",
   "metadata": {},
   "source": [
    "# Лабораторная работа №2."
   ]
  },
  {
   "cell_type": "markdown",
   "metadata": {},
   "source": [
    "## Численные методы интегрирования"
   ]
  },
  {
   "cell_type": "markdown",
   "metadata": {},
   "source": [
    "### Метод прямоугольников"
   ]
  },
  {
   "cell_type": "markdown",
   "metadata": {},
   "source": [
    "http://www.machinelearning.ru/wiki/index.php?title=Методы_прямоугольников_и_трапеций"
   ]
  },
  {
   "cell_type": "code",
   "execution_count": 2,
   "metadata": {
    "collapsed": true
   },
   "outputs": [],
   "source": [
    "# @numba.jit\n",
    "def rectangleMethod(f, a, b, n):\n",
    "    h = (b - a) / n\n",
    "    razb = [f(a + h * (i + 0.5)) for i in range(n)]\n",
    "    return h * sum(razb)"
   ]
  },
  {
   "cell_type": "code",
   "execution_count": 3,
   "metadata": {
    "collapsed": false
   },
   "outputs": [
    {
     "name": "stdout",
     "output_type": "stream",
     "text": [
      "CPU times: user 2.13 s, sys: 92 ms, total: 2.22 s\n",
      "Wall time: 2.23 s\n"
     ]
    },
    {
     "data": {
      "text/plain": [
       "7.5"
      ]
     },
     "execution_count": 3,
     "metadata": {},
     "output_type": "execute_result"
    }
   ],
   "source": [
    "%%time\n",
    "rectangleMethod(lambda x: x, 1, 4, 10 ** 7) # n <= 10 ** 8"
   ]
  },
  {
   "cell_type": "code",
   "execution_count": 4,
   "metadata": {
    "collapsed": false,
    "scrolled": true
   },
   "outputs": [
    {
     "name": "stdout",
     "output_type": "stream",
     "text": [
      "CPU times: user 0 ns, sys: 0 ns, total: 0 ns\n",
      "Wall time: 4.05 µs\n"
     ]
    },
    {
     "data": {
      "text/plain": [
       "-6.5196070764272909e-17"
      ]
     },
     "execution_count": 4,
     "metadata": {},
     "output_type": "execute_result"
    }
   ],
   "source": [
    "%time\n",
    "rectangleMethod(np.sin, -1, 1, 10 ** 6)"
   ]
  },
  {
   "cell_type": "markdown",
   "metadata": {},
   "source": [
    "Так как скучно, попробуем распараллелить:"
   ]
  },
  {
   "cell_type": "code",
   "execution_count": 5,
   "metadata": {
    "collapsed": false
   },
   "outputs": [],
   "source": [
    "# @numba.jit\n",
    "def __rectangleMethodCountrectangleMethodParaller(razb):\n",
    "    return sum(map(g, razb))\n",
    "\n",
    "# @numba.jit\n",
    "def rectangleMethodParaller(f, a, b, n, workers_count=4):\n",
    "    global g,h\n",
    "    g = f\n",
    "    h = (b - a) / n\n",
    "    razb = [a + h * (i + 0.5) for i in range(n)]\n",
    "    razb = [razb[x:x + int(n/workers_count)] for x in range(0, len(razb), int(n/workers_count))]\n",
    "    res = 0\n",
    "    with concurrent.futures.ThreadPoolExecutor(max_workers=workers_count) as ex:\n",
    "        for x in ex.map(__rectangleMethodCountrectangleMethodParaller, razb):\n",
    "            res += x\n",
    "    return h * res"
   ]
  },
  {
   "cell_type": "code",
   "execution_count": 6,
   "metadata": {
    "collapsed": false
   },
   "outputs": [
    {
     "name": "stdout",
     "output_type": "stream",
     "text": [
      "CPU times: user 2.17 s, sys: 68 ms, total: 2.24 s\n",
      "Wall time: 2.24 s\n"
     ]
    },
    {
     "data": {
      "text/plain": [
       "7.5"
      ]
     },
     "execution_count": 6,
     "metadata": {},
     "output_type": "execute_result"
    }
   ],
   "source": [
    "%%time\n",
    "rectangleMethodParaller(lambda x: x, 1, 4, 10 ** 7) # n <= 10 ** 8"
   ]
  },
  {
   "cell_type": "code",
   "execution_count": 7,
   "metadata": {
    "collapsed": false,
    "scrolled": true
   },
   "outputs": [
    {
     "name": "stdout",
     "output_type": "stream",
     "text": [
      "CPU times: user 2.12 s, sys: 84 ms, total: 2.21 s\n",
      "Wall time: 2.21 s\n"
     ]
    },
    {
     "data": {
      "text/plain": [
       "7.5"
      ]
     },
     "execution_count": 7,
     "metadata": {},
     "output_type": "execute_result"
    }
   ],
   "source": [
    "%%time\n",
    "rectangleMethodParaller(lambda x: x, 1, 4, 10 ** 7, workers_count=1)"
   ]
  },
  {
   "cell_type": "code",
   "execution_count": 8,
   "metadata": {
    "collapsed": false
   },
   "outputs": [
    {
     "name": "stdout",
     "output_type": "stream",
     "text": [
      "CPU times: user 0 ns, sys: 0 ns, total: 0 ns\n",
      "Wall time: 6.2 µs\n"
     ]
    },
    {
     "data": {
      "text/plain": [
       "-9.3132257461547847e-16"
      ]
     },
     "execution_count": 8,
     "metadata": {},
     "output_type": "execute_result"
    }
   ],
   "source": [
    "%time\n",
    "rectangleMethodParaller(np.sin, -1, 1, 10 ** 6)"
   ]
  },
  {
   "cell_type": "code",
   "execution_count": 9,
   "metadata": {
    "collapsed": false,
    "scrolled": true
   },
   "outputs": [
    {
     "name": "stdout",
     "output_type": "stream",
     "text": [
      "CPU times: user 0 ns, sys: 0 ns, total: 0 ns\n",
      "Wall time: 6.44 µs\n"
     ]
    },
    {
     "data": {
      "text/plain": [
       "-6.5196070764272909e-17"
      ]
     },
     "execution_count": 9,
     "metadata": {},
     "output_type": "execute_result"
    }
   ],
   "source": [
    "%time\n",
    "rectangleMethodParaller(np.sin, -1, 1, 10 ** 6, workers_count=1)"
   ]
  },
  {
   "cell_type": "markdown",
   "metadata": {},
   "source": [
    "Профита по скорости мы, конечно (GIL), не получили, даже потеряли из-за контекст свитчей. И потеряли немного в точности. Просто распределили нагрузку на логические ядра."
   ]
  },
  {
   "cell_type": "markdown",
   "metadata": {},
   "source": [
    "<b>Проведем тесты для метода прямоугольников:</b>"
   ]
  },
  {
   "cell_type": "code",
   "execution_count": 10,
   "metadata": {
    "collapsed": false
   },
   "outputs": [
    {
     "name": "stdout",
     "output_type": "stream",
     "text": [
      "Тест #1\n",
      "res = 7.63008326988092, exact value = 7.630083269361395, phi = 3.987816516122098e-09\n",
      "\n",
      "Тест #2\n",
      "res = 1.0000000000102724, exact value = 1, phi = 1.614910243765615e-11\n",
      "\n",
      "Тест #3\n",
      "res = 0.7853981633995404, exact value = 0.7853981633974483, phi = 8.333333333333335e-12\n",
      "\n",
      "Тест #4\n",
      "res = 1.9999999999787434, exact value = 2, phi = 8.455356852954751e-11\n",
      "\n",
      "Тест #5\n",
      "res = 20.999999999950393, exact value = 21, phi = 2.5312500000000004e-10\n",
      "\n",
      "Тест #6\n",
      "res = 23.604546966713237, exact value = 23.60454696710679, phi = 9.099691672190707e-10\n",
      "\n",
      "Тест #7\n",
      "res = 4.666666666650002, exact value = 4.666666666666667, phi = 1.666666666666667e-11\n",
      "\n",
      "Тест #8\n",
      "res = 1.0695605577270988, exact value = 1.069560557758917, phi = 1.472402657081983e-10\n",
      "\n"
     ]
    },
    {
     "name": "stderr",
     "output_type": "stream",
     "text": [
      "."
     ]
    },
    {
     "name": "stdout",
     "output_type": "stream",
     "text": [
      "Тест #9\n",
      "res = 1.424635855094655, exact value = 1.4246358550964384, phi = 4.2197145061728395e-12\n",
      "\n",
      "Тест #10\n",
      "res = 32.666666666320204, exact value = 32.666666666666664, phi = 5.034666666666667e-10\n",
      "\n"
     ]
    },
    {
     "name": "stderr",
     "output_type": "stream",
     "text": [
      "\n",
      "----------------------------------------------------------------------\n",
      "Ran 1 test in 1.006s\n",
      "\n",
      "OK\n"
     ]
    }
   ],
   "source": [
    "class MethodTest(unittest.TestCase):\n",
    "    functionlist = [\n",
    "            {\"f\": lambda x: ((x ** 2) * np.sin(x)) / 10, \"a\": 4, \"b\": 9, \"n\": 10 ** 5},\n",
    "            {\"f\": np.cos, \"a\": 0, \"b\": np.pi/2, \"n\": 10 ** 5},\n",
    "            {\"f\": lambda x: 1 / (1 + x ** 2), \"a\": 0, \"b\": 1, \"n\": 10 ** 5},\n",
    "            {\"f\": lambda x: 2 / x, \"a\": 1, \"b\": np.e, \"n\": 10 ** 5},\n",
    "            {\"f\": lambda x: (2*x + 3 / np.sqrt(x)), \"a\": 1, \"b\": 4, \"n\": 10 ** 5},\n",
    "            {\"f\": lambda x: np.e ** (2 * x), \"a\": 1, \"b\": 2, \"n\": 10 ** 5},\n",
    "            {\"f\": lambda x: 2 * x ** 2, \"a\": 1, \"b\": 2, \"n\": 10 ** 5},\n",
    "            {\"f\": lambda x: np.e ** (1 / x) / x ** 2, \"a\": 1, \"b\": 2, \"n\": 10 ** 5},\n",
    "            {\"f\": lambda x: 1 / (np.sqrt(x) + 1), \"a\": 4, \"b\": 9, \"n\": 10 ** 5},\n",
    "            {\"f\": lambda x: x * np.sqrt(x ** 2 + 9), \"a\": 0, \"b\": 4, \"n\": 10 ** 5},\n",
    "        ]\n",
    "    derlist = [\n",
    "        {\"der2\": lambda x: (-x ** 2 * np.sin(x) + 2 * np.sin(x) + 4 * x * np.cos(x)) / 10,\n",
    "         \"ans\": (-8 * np.sin(4) + 18 * np.sin(9) + 14 * np.cos(4) - 79 * np.cos(9)) / 10},\n",
    "        {\"der2\": lambda x: -1 * np.cos(x),\n",
    "        \"ans\": 1},\n",
    "        {\"der2\": lambda x: (6 * x ** 2 - 2) / (x ** 2 + 1) ** 3,\n",
    "        \"ans\": np.pi / 4},\n",
    "        {\"der2\": lambda x: 4 / x ** 3,\n",
    "        \"ans\": 2},\n",
    "        {\"der2\": lambda x: 9 / (4 * x ** 2.5),\n",
    "        \"ans\": 21},\n",
    "        {\"der2\": lambda x: 4 * np.e ** (2 * x),\n",
    "        \"ans\": 0.5 * np.e ** 2 * (np.e ** 2 - 1)},\n",
    "        {\"der2\": np.vectorize(lambda x: 4),\n",
    "        \"ans\": 14 / 3},\n",
    "        {\"der2\": lambda x: np.e ** (1/x) * (6 * x ** 2 + 6 * x + 1) / x ** 6,\n",
    "        \"ans\": np.e - np.sqrt(np.e)},\n",
    "        {\"der2\": lambda x: (3 * np.sqrt(x) + 1) / (4 * (np.sqrt(x) + 1) ** 3 * x ** 1.5),\n",
    "        \"ans\": 2 - 2 * np.log(4) + np.log(9)},\n",
    "        {\"der2\": lambda x: x * (2 * x ** 2 + 27) / (x ** 2 + 9) ** 1.5,\n",
    "        \"ans\": 98 / 3},\n",
    "    ]\n",
    "    \n",
    "    def m2(self, f, a, b, n = 10 ** 5):\n",
    "        return max(abs(f(np.linspace(a,b,n))))\n",
    "\n",
    "    def test(self):\n",
    "        for i, funinfo, derans in zip(range(len(self.functionlist)), self.functionlist, self.derlist):\n",
    "            res = rectangleMethod(**funinfo)\n",
    "            h = (funinfo[\"b\"] - funinfo[\"a\"]) / funinfo[\"n\"]\n",
    "            phi = h ** 2 * (funinfo[\"b\"] - funinfo[\"a\"]) / 24 *\\\n",
    "                            self.m2(lambda x: derans[\"der2\"](x), funinfo[\"a\"], funinfo[\"b\"])\n",
    "            \n",
    "            print(\"Тест #{0}\".format(i + 1))\n",
    "            print(\"res = {0}, exact value = {1}, phi = {2}\".format(res, derans[\"ans\"], phi), end=\"\\n\\n\")\n",
    "            \n",
    "            self.assertTrue(abs(res - derans[\"ans\"]) <= abs(phi))\n",
    "        \n",
    "if __name__ == \"__main__\":\n",
    "    unittest.main(argv=['first-arg-is-ignored'], exit=False)"
   ]
  },
  {
   "cell_type": "markdown",
   "metadata": {},
   "source": [
    "### Метод трапеций"
   ]
  },
  {
   "cell_type": "markdown",
   "metadata": {},
   "source": [
    "http://www.machinelearning.ru/wiki/index.php?title=Методы_прямоугольников_и_трапеций"
   ]
  },
  {
   "cell_type": "code",
   "execution_count": 11,
   "metadata": {
    "collapsed": false
   },
   "outputs": [],
   "source": [
    "# @numba.jit\n",
    "def trapezeMethod(f, a, b, n):\n",
    "    h = (b - a) / n\n",
    "    res = [f(a + i * h) for i in range(n + 1)]\n",
    "    return h * (sum(res) - 0.5 * (f(a) + f(b)))"
   ]
  },
  {
   "cell_type": "code",
   "execution_count": 12,
   "metadata": {
    "collapsed": false,
    "scrolled": true
   },
   "outputs": [
    {
     "name": "stdout",
     "output_type": "stream",
     "text": [
      "CPU times: user 0 ns, sys: 0 ns, total: 0 ns\n",
      "Wall time: 5.25 µs\n"
     ]
    },
    {
     "data": {
      "text/plain": [
       "7.500000000000001"
      ]
     },
     "execution_count": 12,
     "metadata": {},
     "output_type": "execute_result"
    }
   ],
   "source": [
    "%time\n",
    "trapezeMethod(lambda x: x, 1, 4, 10 ** 7)"
   ]
  },
  {
   "cell_type": "code",
   "execution_count": 13,
   "metadata": {
    "collapsed": false
   },
   "outputs": [
    {
     "name": "stdout",
     "output_type": "stream",
     "text": [
      "CPU times: user 0 ns, sys: 0 ns, total: 0 ns\n",
      "Wall time: 3.81 µs\n"
     ]
    },
    {
     "data": {
      "text/plain": [
       "-2.2630008977841952e-17"
      ]
     },
     "execution_count": 13,
     "metadata": {},
     "output_type": "execute_result"
    }
   ],
   "source": [
    "%time\n",
    "trapezeMethod(np.sin, -1, 1, 10 ** 7)"
   ]
  },
  {
   "cell_type": "markdown",
   "metadata": {},
   "source": [
    "<b>Проведем тесты для метода трапеций:</b>"
   ]
  },
  {
   "cell_type": "code",
   "execution_count": 18,
   "metadata": {
    "collapsed": false
   },
   "outputs": [
    {
     "name": "stdout",
     "output_type": "stream",
     "text": [
      "Тест #1\n",
      "res = 7.630083268322422, exact value = 7.630083269361395, phi = 7.975633032244195e-09\n",
      "\n",
      "Тест #2\n",
      "res = 0.9999999999794293, exact value = 1, phi = 3.22982048753123e-11\n",
      "\n",
      "Тест #3\n",
      "res = 0.7853981633932882, exact value = 0.7853981633974483, phi = 1.666666666666667e-11\n",
      "\n",
      "Тест #4\n",
      "res = 2.00000000004252, exact value = 2, phi = 1.6910713705909502e-10\n",
      "\n",
      "Тест #5\n",
      "res = 21.000000000098357, exact value = 21, phi = 5.062500000000001e-10\n",
      "\n",
      "Тест #6\n",
      "res = 23.604546967893576, exact value = 23.60454696710679, phi = 1.8199383344381414e-09\n",
      "\n",
      "Тест #7\n",
      "res = 4.666666666666959, exact value = 4.666666666666667, phi = 3.3333333333333334e-13\n",
      "\n",
      "Тест #8\n",
      "res = 1.0695605578225802, exact value = 1.069560557758917, phi = 2.944805314163966e-10\n",
      "\n"
     ]
    },
    {
     "name": "stderr",
     "output_type": "stream",
     "text": [
      "."
     ]
    },
    {
     "name": "stdout",
     "output_type": "stream",
     "text": [
      "Тест #9\n",
      "res = 1.4246358551000518, exact value = 1.4246358550964384, phi = 8.439429012345679e-12\n",
      "\n",
      "Тест #10\n",
      "res = 32.66666666736007, exact value = 32.666666666666664, phi = 1.0069333333333335e-09\n",
      "\n"
     ]
    },
    {
     "name": "stderr",
     "output_type": "stream",
     "text": [
      "\n",
      "----------------------------------------------------------------------\n",
      "Ran 1 test in 1.268s\n",
      "\n",
      "OK\n"
     ]
    }
   ],
   "source": [
    "class MethodTest(unittest.TestCase):\n",
    "    functionlist = [\n",
    "            {\"f\": lambda x: ((x ** 2) * np.sin(x)) / 10, \"a\": 4, \"b\": 9, \"n\": 10 ** 5},\n",
    "            {\"f\": np.cos, \"a\": 0, \"b\": np.pi/2, \"n\": 10 ** 5},\n",
    "            {\"f\": lambda x: 1 / (1 + x ** 2), \"a\": 0, \"b\": 1, \"n\": 10 ** 5},\n",
    "            {\"f\": lambda x: 2 / x, \"a\": 1, \"b\": np.e, \"n\": 10 ** 5},\n",
    "            {\"f\": lambda x: (2*x + 3 / np.sqrt(x)), \"a\": 1, \"b\": 4, \"n\": 10 ** 5},\n",
    "            {\"f\": lambda x: np.e ** (2 * x), \"a\": 1, \"b\": 2, \"n\": 10 ** 5},\n",
    "            {\"f\": lambda x: 2 * x ** 2, \"a\": 1, \"b\": 2, \"n\": 10 ** 6}, # с степенью 5 не проходит тест :(\n",
    "            {\"f\": lambda x: np.e ** (1 / x) / x ** 2, \"a\": 1, \"b\": 2, \"n\": 10 ** 5},\n",
    "            {\"f\": lambda x: 1 / (np.sqrt(x) + 1), \"a\": 4, \"b\": 9, \"n\": 10 ** 5},\n",
    "            {\"f\": lambda x: x * np.sqrt(x ** 2 + 9), \"a\": 0, \"b\": 4, \"n\": 10 ** 5},\n",
    "        ]\n",
    "    derlist = [\n",
    "        {\"der2\": lambda x: (-x ** 2 * np.sin(x) + 2 * np.sin(x) + 4 * x * np.cos(x)) / 10,\n",
    "         \"ans\": (-8 * np.sin(4) + 18 * np.sin(9) + 14 * np.cos(4) - 79 * np.cos(9)) / 10},\n",
    "        {\"der2\": lambda x: -1 * np.cos(x),\n",
    "        \"ans\": 1},\n",
    "        {\"der2\": lambda x: (6 * x ** 2 - 2) / (x ** 2 + 1) ** 3,\n",
    "        \"ans\": np.pi / 4},\n",
    "        {\"der2\": lambda x: 4 / x ** 3,\n",
    "        \"ans\": 2},\n",
    "        {\"der2\": lambda x: 9 / (4 * x ** 2.5),\n",
    "        \"ans\": 21},\n",
    "        {\"der2\": lambda x: 4 * np.e ** (2 * x),\n",
    "        \"ans\": 0.5 * np.e ** 2 * (np.e ** 2 - 1)},\n",
    "        {\"der2\": np.vectorize(lambda x: 4),\n",
    "        \"ans\": 14 / 3},\n",
    "        {\"der2\": lambda x: np.e ** (1/x) * (6 * x ** 2 + 6 * x + 1) / x ** 6,\n",
    "        \"ans\": np.e - np.sqrt(np.e)},\n",
    "        {\"der2\": lambda x: (3 * np.sqrt(x) + 1) / (4 * (np.sqrt(x) + 1) ** 3 * x ** 1.5),\n",
    "        \"ans\": 2 - 2 * np.log(4) + np.log(9)},\n",
    "        {\"der2\": lambda x: x * (2 * x ** 2 + 27) / (x ** 2 + 9) ** 1.5,\n",
    "        \"ans\": 98 / 3},\n",
    "    ]\n",
    "    \n",
    "    def m2(self, f, a, b, n = 10 ** 5): #golden section\n",
    "        return max(abs(f(np.linspace(a,b,n))))\n",
    "\n",
    "    def test(self):\n",
    "        for i, funinfo, derans in zip(range(len(self.functionlist)), self.functionlist, self.derlist):\n",
    "            res = trapezeMethod(**funinfo)\n",
    "            h = (funinfo[\"b\"] - funinfo[\"a\"]) / funinfo[\"n\"]\n",
    "            phi = h ** 2 * (funinfo[\"b\"] - funinfo[\"a\"]) / 12 *\\\n",
    "                            self.m2(lambda x: derans[\"der2\"](x), funinfo[\"a\"], funinfo[\"b\"])\n",
    "            \n",
    "            print(\"Тест #{0}\".format(i + 1))\n",
    "            print(\"res = {0}, exact value = {1}, phi = {2}\".format(res, derans[\"ans\"], phi), end=\"\\n\\n\")\n",
    "            \n",
    "            self.assertTrue(abs(res - derans[\"ans\"]) <= abs(phi))\n",
    "        \n",
    "if __name__ == \"__main__\":\n",
    "    unittest.main(argv=['first-arg-is-ignored'], exit=False)"
   ]
  },
  {
   "cell_type": "markdown",
   "metadata": {},
   "source": [
    "### Метод парабол"
   ]
  },
  {
   "cell_type": "markdown",
   "metadata": {},
   "source": [
    "http://www.machinelearning.ru/wiki/index.php?title=Методы_парабол_(Симпсона)_и_более_высоких_степеней_(Ньютона_-_Котеса)"
   ]
  },
  {
   "cell_type": "code",
   "execution_count": 61,
   "metadata": {
    "collapsed": false
   },
   "outputs": [],
   "source": [
    "# @numba.jit\n",
    "def parabolaMethod(f, a, b, n):\n",
    "    n //= 2\n",
    "    h = (b - a) / n\n",
    "    x = [a + i * h for i in range(n + 1)]\n",
    "    return h / 3 * (f(a) + f(b) + 4 * sum(map(f, x[1::2])) + 2 * sum(map(f, x[2:-2:2])))"
   ]
  },
  {
   "cell_type": "code",
   "execution_count": 63,
   "metadata": {
    "collapsed": false,
    "scrolled": true
   },
   "outputs": [
    {
     "name": "stdout",
     "output_type": "stream",
     "text": [
      "CPU times: user 0 ns, sys: 0 ns, total: 0 ns\n",
      "Wall time: 4.05 µs\n"
     ]
    },
    {
     "data": {
      "text/plain": [
       "7.500000000000004"
      ]
     },
     "execution_count": 63,
     "metadata": {},
     "output_type": "execute_result"
    }
   ],
   "source": [
    "%time\n",
    "parabolaMethod(lambda x: x, 1, 4, 10 ** 7)"
   ]
  },
  {
   "cell_type": "code",
   "execution_count": 64,
   "metadata": {
    "collapsed": false,
    "scrolled": true
   },
   "outputs": [
    {
     "name": "stdout",
     "output_type": "stream",
     "text": [
      "CPU times: user 0 ns, sys: 0 ns, total: 0 ns\n",
      "Wall time: 3.81 µs\n"
     ]
    },
    {
     "data": {
      "text/plain": [
       "-9.8269363017304089e-17"
      ]
     },
     "execution_count": 64,
     "metadata": {},
     "output_type": "execute_result"
    }
   ],
   "source": [
    "%time\n",
    "parabolaMethod(np.sin, -1, 1, 10 ** 7)"
   ]
  },
  {
   "cell_type": "markdown",
   "metadata": {},
   "source": [
    "<b>Проведем тесты для метода трапеций:</b>"
   ]
  },
  {
   "cell_type": "code",
   "execution_count": 77,
   "metadata": {
    "collapsed": false
   },
   "outputs": [
    {
     "name": "stdout",
     "output_type": "stream",
     "text": [
      "Тест #1\n",
      "res = 7.630083269361407, exact value = 7.630083269361395, phi = 3.0250635098626114e-10\n",
      "\n",
      "Тест #2\n",
      "res = 0.9999999999999993, exact value = 1, phi = 1.3457585364713459e-12\n",
      "\n",
      "Тест #3\n",
      "res = 0.7853981633974471, exact value = 0.7853981633974483, phi = 8.333333333333334e-12\n",
      "\n",
      "Тест #4\n",
      "res = 2.0000000000000004, exact value = 2, phi = 4.051525158707485e-11\n",
      "\n",
      "Тест #5\n",
      "res = 20.999999999999982, exact value = 21, phi = 5.2734375e-11\n",
      "\n",
      "Тест #6\n",
      "res = 23.604546967106966, exact value = 23.60454696710679, phi = 1.516615278698451e-10\n",
      "\n"
     ]
    },
    {
     "name": "stderr",
     "output_type": "stream",
     "text": [
      "."
     ]
    },
    {
     "name": "stdout",
     "output_type": "stream",
     "text": [
      "Тест #7\n",
      "res = 1.0695605577589193, exact value = 1.069560557758917, phi = 6.890089356857997e-11\n",
      "\n",
      "Тест #8\n",
      "res = 1.4246358550964449, exact value = 1.4246358550964384, phi = 1.8210077481995886e-13\n",
      "\n",
      "Тест #9\n",
      "res = 32.666666666666664, exact value = 32.666666666666664, phi = 2.2222222222222225e-11\n",
      "\n"
     ]
    },
    {
     "name": "stderr",
     "output_type": "stream",
     "text": [
      "\n",
      "----------------------------------------------------------------------\n",
      "Ran 1 test in 0.545s\n",
      "\n",
      "OK\n"
     ]
    }
   ],
   "source": [
    "class MethodTest(unittest.TestCase):\n",
    "    functionlist = [\n",
    "            {\"f\": lambda x: ((x ** 2) * np.sin(x)) / 10, \"a\": 4, \"b\": 9, \"n\": 10 ** 5},\n",
    "            {\"f\": np.cos, \"a\": 0, \"b\": np.pi/2, \"n\": 10 ** 5},\n",
    "            {\"f\": lambda x: 1 / (1 + x ** 2), \"a\": 0, \"b\": 1, \"n\": 10 ** 5},\n",
    "            {\"f\": lambda x: 2 / x, \"a\": 1, \"b\": np.e, \"n\": 10 ** 5},\n",
    "            {\"f\": lambda x: (2*x + 3 / np.sqrt(x)), \"a\": 1, \"b\": 4, \"n\": 10 ** 5},\n",
    "            {\"f\": lambda x: np.e ** (2 * x), \"a\": 1, \"b\": 2, \"n\": 10 ** 5},\n",
    "#             {\"f\": lambda x: 2 * x ** 2, \"a\": 1, \"b\": 2, \"n\": 10 ** 6}, # 3-я производная = 0:(\n",
    "            {\"f\": lambda x: np.e ** (1 / x) / x ** 2, \"a\": 1, \"b\": 2, \"n\": 10 ** 5},\n",
    "            {\"f\": lambda x: 1 / (np.sqrt(x) + 1), \"a\": 4, \"b\": 9, \"n\": 10 ** 5},\n",
    "            {\"f\": lambda x: x * np.sqrt(x ** 2 + 9), \"a\": 0, \"b\": 4, \"n\": 10 ** 5},\n",
    "        ]\n",
    "    derlist = [\n",
    "        {\"der3\": lambda x: ((-x ** 2 - 6) * np.cos(x) - 6 * x * np.sin(x)) / 10,\n",
    "         \"ans\": (-8 * np.sin(4) + 18 * np.sin(9) + 14 * np.cos(4) - 79 * np.cos(9)) / 10},\n",
    "        {\"der3\": lambda x: np.sin(x),\n",
    "        \"ans\": 1},\n",
    "        {\"der3\": lambda x: -(24 * (x ** 2 - 1)) / (x ** 2 + 1) ** 4,\n",
    "        \"ans\": np.pi / 4},\n",
    "        {\"der3\": lambda x: -23 / x ** 4,\n",
    "        \"ans\": 2},\n",
    "        {\"der3\": lambda x: -5.625 / x ** 3.5,\n",
    "        \"ans\": 21},\n",
    "        {\"der3\": lambda x: 8 * np.e ** (2 * x),\n",
    "        \"ans\": 0.5 * np.e ** 2 * (np.e ** 2 - 1)},\n",
    "#         {\"der3\": np.vectorize(lambda x: 0),\n",
    "#         \"ans\": 14 / 3},\n",
    "        {\"der3\": lambda x: -np.e ** (1/x) * (24 * x ** 3 + 36 * x ** 2 + 12 * x + 1) / x ** 8,\n",
    "        \"ans\": np.e - np.sqrt(np.e)},\n",
    "        {\"der3\": lambda x: (-1.5 * x ** 2.5 - 1.875 * x ** 3 - 0.375 * x ** 2) /\\\n",
    "         (np.sqrt(x) + 1) ** 4 / x ** 4.5,\n",
    "        \"ans\": 2 - 2 * np.log(4) + np.log(9)},\n",
    "        {\"der3\": lambda x: - 3 * (2 * x ** 2 + 27) * x ** 2 / (x ** 2 + 9) ** 2.5 +\\\n",
    "         (4 * x ** 2) / (x ** 2 + 9) ** 1.5 + \\\n",
    "         (2 * x ** 2 + 27) / (x ** 2 + 9) ** 1.5,\n",
    "        \"ans\": 98 / 3},\n",
    "    ]\n",
    "    \n",
    "    def m3(self, f, a, b, n = 10 ** 5): #golden section\n",
    "        return max(abs(f(np.linspace(a,b,n))))\n",
    "\n",
    "    def test(self):\n",
    "        for i, funinfo, derans in zip(range(len(self.functionlist)), self.functionlist, self.derlist):\n",
    "            res = parabolaMethod(**funinfo)\n",
    "            h = (funinfo[\"b\"] - funinfo[\"a\"]) / funinfo[\"n\"]\n",
    "            phi = h ** 2 * (funinfo[\"b\"] - funinfo[\"a\"]) / 288 *\\\n",
    "                            self.m3(lambda x: derans[\"der3\"](x), funinfo[\"a\"], funinfo[\"b\"])\n",
    "            \n",
    "            print(\"Тест #{0}\".format(i + 1))\n",
    "            print(\"res = {0}, exact value = {1}, phi = {2}\".format(res, derans[\"ans\"], phi), end=\"\\n\\n\")\n",
    "            \n",
    "            self.assertTrue(abs(res - derans[\"ans\"]) <= abs(phi))\n",
    "        \n",
    "if __name__ == \"__main__\":\n",
    "    unittest.main(argv=['first-arg-is-ignored'], exit=False)"
   ]
  },
  {
   "cell_type": "markdown",
   "metadata": {},
   "source": [
    "## Симплекс метод"
   ]
  },
  {
   "cell_type": "markdown",
   "metadata": {},
   "source": [
    "Реализовал, опираясь на https://www.youtube.com/watch?v=gRgsT9BB5-8 (ссылка на 1-ое из пяти видео)."
   ]
  },
  {
   "cell_type": "code",
   "execution_count": 541,
   "metadata": {
    "collapsed": false
   },
   "outputs": [],
   "source": [
    "def readJson(jsonpath):\n",
    "    with open(jsonpath, encoding='utf-8') as data_file:    \n",
    "        return json.load(data_file)\n",
    "\n",
    "def symplexMethod(jsonPath):\n",
    "    jsonfile = readJson(jsonPath)\n",
    "    c = np.array(jsonfile.get(\"c_vector\"))\n",
    "    b = np.array(jsonfile.get(\"b_vector\"))\n",
    "    A = np.array(jsonfile.get(\"A_matrix\"))\n",
    "    \n",
    "    old_dim = A.shape\n",
    "    \n",
    "    _ = np.zeros((len(A), len(A)), int)\n",
    "    np.fill_diagonal(_, 1)\n",
    "    A = np.append(A, _, axis=1)\n",
    "    A = np.append(A, np.zeros((len(A), 1)), axis=1)\n",
    "    \n",
    "    A = np.append(A, b.reshape(len(b),1), axis=1)\n",
    "    c = np.append(-c, [0] * len(A) + [1, 0])\n",
    "    A = np.append(A, c.reshape(1, len(c)), axis=0)\n",
    "    A = A.astype(np.float128)\n",
    "\n",
    "    while (list(filter(lambda x: x < 0, A[-1, :A.shape[0]]))):\n",
    "        for j in range(3):\n",
    "            des_col = np.argmin(A[-1])\n",
    "            des_row = np.argmin(A[:-1, -1] / A[:-1, des_col])\n",
    "            el = A[des_row, des_col]\n",
    "            A[des_row] /= el\n",
    "            for i in range(len(A)):\n",
    "                if i == des_row:\n",
    "                    continue\n",
    "                k = A[i, des_col] / A[des_row, des_col]\n",
    "                A[i] += -k * A[des_row]\n",
    "\n",
    "    res = {}\n",
    "    for x in A[:old_dim[0]]:\n",
    "        if 1.0 in list(x[:old_dim[1]]):\n",
    "            res.update({\"x{0}\".format(int(np.where(x[:old_dim[1]] == 1.0)[0][0] + 1)):\\\n",
    "                    x[-1]})\n",
    "            \n",
    "    return res"
   ]
  },
  {
   "cell_type": "markdown",
   "metadata": {},
   "source": [
    "<b>Проведем тесты для симплекс метода:</b>"
   ]
  },
  {
   "cell_type": "code",
   "execution_count": 542,
   "metadata": {
    "collapsed": false
   },
   "outputs": [
    {
     "name": "stderr",
     "output_type": "stream",
     "text": [
      "/home/ilysko/anaconda3/lib/python3.6/site-packages/ipykernel/__main__.py:26: RuntimeWarning: divide by zero encountered in true_divide\n"
     ]
    },
    {
     "data": {
      "text/plain": [
       "{'x1': 32.0, 'x2': 20.0}"
      ]
     },
     "execution_count": 542,
     "metadata": {},
     "output_type": "execute_result"
    }
   ],
   "source": [
    "symplexMethod(\"tests/test2.json\")"
   ]
  },
  {
   "cell_type": "code",
   "execution_count": 545,
   "metadata": {
    "collapsed": false,
    "scrolled": false
   },
   "outputs": [
    {
     "name": "stdout",
     "output_type": "stream",
     "text": [
      "CPU times: user 0 ns, sys: 0 ns, total: 0 ns\n",
      "Wall time: 4.05 µs\n"
     ]
    },
    {
     "name": "stderr",
     "output_type": "stream",
     "text": [
      "/home/ilysko/anaconda3/lib/python3.6/site-packages/ipykernel/__main__.py:26: RuntimeWarning: divide by zero encountered in true_divide\n"
     ]
    },
    {
     "data": {
      "text/plain": [
       "{'x1': 14.999999999999999999, 'x2': 5.0}"
      ]
     },
     "execution_count": 545,
     "metadata": {},
     "output_type": "execute_result"
    }
   ],
   "source": [
    "%time\n",
    "symplexMethod(\"tests/test5.json\")"
   ]
  },
  {
   "cell_type": "code",
   "execution_count": 547,
   "metadata": {
    "collapsed": false
   },
   "outputs": [
    {
     "name": "stderr",
     "output_type": "stream",
     "text": [
      "/home/ilysko/anaconda3/lib/python3.6/site-packages/ipykernel/__main__.py:26: RuntimeWarning: divide by zero encountered in true_divide\n",
      "."
     ]
    },
    {
     "name": "stdout",
     "output_type": "stream",
     "text": [
      "Тест #0\n",
      "{'x1': 200.0, 'x3': 300.0}\n",
      "\n",
      "Тест #1\n",
      "{'x1': 32.0, 'x2': 20.0}\n",
      "\n",
      "Тест #2\n",
      "{'x1': 39.999999999999999997}\n",
      "\n",
      "Тест #3\n",
      "{'x1': 19.0, 'x2': 12.0}\n",
      "\n",
      "Тест #4\n",
      "{'x2': 5.0, 'x1': 14.999999999999999999}\n",
      "\n"
     ]
    },
    {
     "name": "stderr",
     "output_type": "stream",
     "text": [
      "\n",
      "----------------------------------------------------------------------\n",
      "Ran 1 test in 0.003s\n",
      "\n",
      "OK\n"
     ]
    }
   ],
   "source": [
    "class MethodTest(unittest.TestCase):\n",
    "    exact_ans = [\n",
    "        {'x1': 200.0, 'x3': 300.0}, # test1, https://www.youtube.com/watch?v=gRgsT9BB5-8\n",
    "        {'x1': 32.0, 'x2': 20.0}, # test2, http://kontromat.ru/?page_id=2940\n",
    "        {'x1': 40}, # test3, http://1cov-edu.ru/lineynoe-programmirovanie/simpleks-metod/primer/\n",
    "        {'x1': 19.0, 'x2': 12.0}, # test4, https://math.semestr.ru/simplex/primersolve.php\n",
    "        {'x1': 15, 'x2': 5.0} # test5, http://matem96.ru/primer/primer_matprogr3.shtml\n",
    "    ]\n",
    "    \n",
    "    def test(self):\n",
    "        for i in range(len(self.exact_ans)):\n",
    "            res = symplexMethod(\"tests/test{}.json\".format(i+1))\n",
    "            print(\"Тест #\" + str(i) + '\\n' + str(res), end='\\n\\n')\n",
    "            err = 0\n",
    "            for a,r in zip(self.exact_ans[i].values(), res.values()):\n",
    "                err += (a - r) ** 2\n",
    "            self.assertTrue(err <= 10 ** 10)\n",
    "        \n",
    "if __name__ == \"__main__\":\n",
    "    unittest.main(argv=['first-arg-is-ignored'], exit=False)"
   ]
  },
  {
   "cell_type": "code",
   "execution_count": null,
   "metadata": {
    "collapsed": true
   },
   "outputs": [],
   "source": []
  }
 ],
 "metadata": {
  "kernelspec": {
   "display_name": "Python 3",
   "language": "python",
   "name": "python3"
  },
  "language_info": {
   "codemirror_mode": {
    "name": "ipython",
    "version": 3
   },
   "file_extension": ".py",
   "mimetype": "text/x-python",
   "name": "python",
   "nbconvert_exporter": "python",
   "pygments_lexer": "ipython3",
   "version": "3.6.0"
  }
 },
 "nbformat": 4,
 "nbformat_minor": 2
}
